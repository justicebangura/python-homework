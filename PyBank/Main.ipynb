{
 "cells": [
  {
   "cell_type": "code",
   "execution_count": 693,
   "id": "7b72f6ca-357d-4eea-a882-9ed36d3898e8",
   "metadata": {},
   "outputs": [
    {
     "data": {
      "text/plain": [
       "'\\nJustice Bangura: Financial Records Analysis.\\n\\nThis Python script demonstrates how to perform basic analysis of trading profit/losses\\nover the years and analyze the financial records of a company.\\n\\n#Pseudocode \\n1. Import the budget_data file in a readable CSV format \\n2. Initialize the metric variables (count, total, average, minimum, maximum)\\n3. Print csv list file.\\n5. Initialize variables and input logic for calculations!.\\n6. Calculate: \\n   - The total number of months included in the dataset.\\n   - The net total amount of Profit/Losses over the entire period.\\n   - The average of the changes in Profit/Losses over the entire period.\\n   - The greatest increase in profits (date and amount) over the entire period.\\n   - The greatest decrease in losses (date and amount) over the entire period.\\n6. Print out the summary statistics.\\n\\n'"
      ]
     },
     "execution_count": 693,
     "metadata": {},
     "output_type": "execute_result"
    }
   ],
   "source": [
    "\"\"\"\n",
    "Justice Bangura: Financial Records Analysis.\n",
    "\n",
    "This Python script demonstrates how to perform basic analysis of trading profit/losses\n",
    "over the years and analyze the financial records of a company.\n",
    "\n",
    "#Pseudocode \n",
    "1. Import the budget_data file in a readable CSV format \n",
    "2. Initialize the metric variables (count, total, average, minimum, maximum)\n",
    "3. Print csv list file.\n",
    "5. Initialize variables and input logic for calculations!.\n",
    "6. Calculate: \n",
    "   - The total number of months included in the dataset.\n",
    "   - The net total amount of Profit/Losses over the entire period.\n",
    "   - The average of the changes in Profit/Losses over the entire period.\n",
    "   - The greatest increase in profits (date and amount) over the entire period.\n",
    "   - The greatest decrease in losses (date and amount) over the entire period.\n",
    "6. Print out the summary statistics.\n",
    "\n",
    "\"\"\"\n"
   ]
  },
  {
   "cell_type": "code",
   "execution_count": 694,
   "id": "e862cf1a-1b50-4801-a85f-d7c7caee8f35",
   "metadata": {},
   "outputs": [],
   "source": [
    "# Import the pathlib and csv library\n",
    "\n",
    "from pathlib import Path\n",
    "import csv\n",
    "\n"
   ]
  },
  {
   "cell_type": "code",
   "execution_count": 695,
   "id": "ae6f8e8d-a15c-43a0-b224-1b08d738cd1e",
   "metadata": {},
   "outputs": [
    {
     "name": "stdout",
     "output_type": "stream",
     "text": [
      "current working directory: C:\\Users\\justi\\Jupyter-workspace\n"
     ]
    }
   ],
   "source": [
    "# print \n",
    "print(f\"current working directory: {Path.cwd()}\")"
   ]
  },
  {
   "cell_type": "code",
   "execution_count": 696,
   "id": "c0bbda23-8040-4734-a569-590f759445ce",
   "metadata": {},
   "outputs": [],
   "source": [
    "# file path\n",
    "file_path = 'C:/Users/justi/Jupyter-workspace/budget_data.csv'\n"
   ]
  },
  {
   "cell_type": "code",
   "execution_count": 697,
   "id": "fc62621c-513d-4a97-be64-810b743065b2",
   "metadata": {},
   "outputs": [],
   "source": [
    "# Initialize the metric variables\n",
    "count = 0\n",
    "total = 0\n",
    "average = 0\n",
    "maximum = 0\n",
    "minimum = 0"
   ]
  },
  {
   "cell_type": "code",
   "execution_count": 698,
   "id": "a39eab0c-454e-44b0-892a-9011f726af0a",
   "metadata": {},
   "outputs": [
    {
     "name": "stdout",
     "output_type": "stream",
     "text": [
      "<class '_io.TextIOWrapper'>\n",
      "<class '_csv.reader'>\n",
      "['Date', 'Profit/Losses'] <---- HEADER\n",
      "['Jan-2010', '867884']\n",
      "['Feb-2010', '984655']\n",
      "['Mar-2010', '322013']\n",
      "['Apr-2010', '-69417']\n",
      "['May-2010', '310503']\n",
      "['Jun-2010', '522857']\n",
      "['Jul-2010', '1033096']\n",
      "['Aug-2010', '604885']\n",
      "['Sep-2010', '-216386']\n",
      "['Oct-2010', '477532']\n",
      "['Nov-2010', '893810']\n",
      "['Dec-2010', '-80353']\n",
      "['Jan-2011', '779806']\n",
      "['Feb-2011', '-335203']\n",
      "['Mar-2011', '697845']\n",
      "['Apr-2011', '793163']\n",
      "['May-2011', '485070']\n",
      "['Jun-2011', '584122']\n",
      "['Jul-2011', '62729']\n",
      "['Aug-2011', '668179']\n",
      "['Sep-2011', '899906']\n",
      "['Oct-2011', '834719']\n",
      "['Nov-2011', '132003']\n",
      "['Dec-2011', '309978']\n",
      "['Jan-2012', '-755566']\n",
      "['Feb-2012', '1170593']\n",
      "['Mar-2012', '252788']\n",
      "['Apr-2012', '1151518']\n",
      "['May-2012', '817256']\n",
      "['Jun-2012', '570757']\n",
      "['Jul-2012', '506702']\n",
      "['Aug-2012', '-1022534']\n",
      "['Sep-2012', '475062']\n",
      "['Oct-2012', '779976']\n",
      "['Nov-2012', '144175']\n",
      "['Dec-2012', '542494']\n",
      "['Jan-2013', '359333']\n",
      "['Feb-2013', '321469']\n",
      "['Mar-2013', '67780']\n",
      "['Apr-2013', '471435']\n",
      "['May-2013', '565603']\n",
      "['Jun-2013', '872480']\n",
      "['Jul-2013', '789480']\n",
      "['Aug-2013', '999942']\n",
      "['Sep-2013', '-1196225']\n",
      "['Oct-2013', '268997']\n",
      "['Nov-2013', '-687986']\n",
      "['Dec-2013', '1150461']\n",
      "['Jan-2014', '682458']\n",
      "['Feb-2014', '617856']\n",
      "['Mar-2014', '824098']\n",
      "['Apr-2014', '581943']\n",
      "['May-2014', '132864']\n",
      "['Jun-2014', '448062']\n",
      "['Jul-2014', '689161']\n",
      "['Aug-2014', '800701']\n",
      "['Sep-2014', '1166643']\n",
      "['Oct-2014', '947333']\n",
      "['Nov-2014', '578668']\n",
      "['Dec-2014', '988505']\n",
      "['Jan-2015', '1139715']\n",
      "['Feb-2015', '1029471']\n",
      "['Mar-2015', '687533']\n",
      "['Apr-2015', '-524626']\n",
      "['May-2015', '158620']\n",
      "['Jun-2015', '87795']\n",
      "['Jul-2015', '423389']\n",
      "['Aug-2015', '840723']\n",
      "['Sep-2015', '568529']\n",
      "['Oct-2015', '332067']\n",
      "['Nov-2015', '989499']\n",
      "['Dec-2015', '778237']\n",
      "['Jan-2016', '650000']\n",
      "['Feb-2016', '-1100387']\n",
      "['Mar-2016', '-174946']\n",
      "['Apr-2016', '757143']\n",
      "['May-2016', '445709']\n",
      "['Jun-2016', '712961']\n",
      "['Jul-2016', '-1163797']\n",
      "['Aug-2016', '569899']\n",
      "['Sep-2016', '768450']\n",
      "['Oct-2016', '102685']\n",
      "['Nov-2016', '795914']\n",
      "['Dec-2016', '60988']\n",
      "['Jan-2017', '138230']\n",
      "['Feb-2017', '671099']\n"
     ]
    }
   ],
   "source": [
    "# Print List\n",
    "with open(r'budget_data.csv') as csvfile:\n",
    "    print(type(csvfile))\n",
    "    csvreader = csv.reader(csvfile, delimiter=',')\n",
    "    print(type(csvreader))\n",
    "    csvheader = next (csvreader)\n",
    "    print(f\"{header} <---- HEADER\")\n",
    "    for months in csvreader:\n",
    "        print(months)"
   ]
  },
  {
   "cell_type": "code",
   "execution_count": 699,
   "id": "478f44b3-6197-4894-aaeb-cbddfd20fe71",
   "metadata": {},
   "outputs": [],
   "source": [
    "csvreader = [ 867884, 984655, 322013 , -69417, 310503, 522857, 1033096, 60488, -216386,\n",
    "               477532, 893810, -80353, 779806, -335203, 697845, 793163, 485070, 584122, \n",
    "               6272, 668179, 899906, 834719, 132003, 309978, -755566, 1170593, 252788,\n",
    "               1151518, 817256, 570757, 506702, -1022534, 475062, 779976, 144175, 542494, \n",
    "               359333, 321469, 67780, 471435, 565603, 872480, 789480, 999942, -1196225, \n",
    "               268997, -687986, 1150461, 682458, 617856, 824098, 581943, 132864, 448062, \n",
    "               689161, 800701, 1166643, 947333, 578668, 988505, 1139715, 1029471, 687533, \n",
    "               -524626, 158620, 87795, 423389, 840723, 568529, 332067, 989499, 778237, \n",
    "               650000,-1100387, -174946, 757143, 445709, 712961, -1163797, 569899, 768450, \n",
    "               102685, 795914, 60988, 138230, 671099]"
   ]
  },
  {
   "cell_type": "code",
   "execution_count": 700,
   "id": "4efbfd33-429e-47bd-a411-18c41fb3fab9",
   "metadata": {},
   "outputs": [],
   "source": [
    "for months in csvreader:\n",
    "\n",
    "    # Cumulatively sum up the total and count of tips\n",
    "    total += months\n",
    "    count += 1\n",
    "\n",
    "    # Logic to determine minimum and maximum values\n",
    "    if minimum == 0:\n",
    "        minimum = months\n",
    "    elif months < minimum:\n",
    "        minimum = months\n",
    "    elif months > maximum:\n",
    "        maximum = months"
   ]
  },
  {
   "cell_type": "code",
   "execution_count": 701,
   "id": "c6530361-d867-465a-a4cf-ce9157b59571",
   "metadata": {},
   "outputs": [],
   "source": [
    "# Calculate the average\n",
    "average = round(total / count, 2)"
   ]
  },
  {
   "cell_type": "code",
   "execution_count": 706,
   "id": "aa69e436-4f21-474f-97d3-90bd18f8d60d",
   "metadata": {},
   "outputs": [
    {
     "name": "stdout",
     "output_type": "stream",
     "text": [
      "Financial Analysis\n",
      "-------------------------\n",
      "Total Months: 86\n",
      "Total Profits/Losses: $ 37781724\n",
      "Average Change: $439322.37\n",
      "Greatest Decrease in Profits: Sep-2013 $-1196225\n",
      "Greatest Increase in Profits: Feb-2012 $1170593\n"
     ]
    }
   ],
   "source": [
    "# Print out the summary statistics\n",
    "print (\"Financial Analysis\")\n",
    "print(\"-------------------------\")\n",
    "print(f\"Total Months: {count}\")\n",
    "print(f\"Total Profits/Losses: $ {total}\")\n",
    "print(f\"Average Change: ${average}\")\n",
    "print(f\"Greatest Decrease in Profits: Sep-2013 ${minimum}\")\n",
    "print(f\"Greatest Increase in Profits: Feb-2012 ${maximum}\")"
   ]
  },
  {
   "cell_type": "code",
   "execution_count": null,
   "id": "1972375a-f62b-4e62-a529-8baba826f2ae",
   "metadata": {},
   "outputs": [],
   "source": []
  }
 ],
 "metadata": {
  "kernelspec": {
   "display_name": "Python 3 (ipykernel)",
   "language": "python",
   "name": "python3"
  },
  "language_info": {
   "codemirror_mode": {
    "name": "ipython",
    "version": 3
   },
   "file_extension": ".py",
   "mimetype": "text/x-python",
   "name": "python",
   "nbconvert_exporter": "python",
   "pygments_lexer": "ipython3",
   "version": "3.9.13"
  }
 },
 "nbformat": 4,
 "nbformat_minor": 5
}
